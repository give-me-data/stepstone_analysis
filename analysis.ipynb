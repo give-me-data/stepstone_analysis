{
 "cells": [
  {
   "cell_type": "code",
   "execution_count": null,
   "metadata": {},
   "outputs": [],
   "source": [
    "import pandas as pd\n",
    "import numpy as np\n",
    "import re\n",
    "import itertools\n",
    "from tqdm import tqdm\n",
    "import seaborn as sns\n",
    "import matplotlib.pyplot as plt\n",
    "from concurrent.futures import ThreadPoolExecutor\n",
    "\n",
    "import spacy\n",
    "from spacy.matcher import PhraseMatcher\n",
    "from spacy.pipeline import EntityRecognizer\n",
    "\n",
    "from skillNer.general_params import SKILL_DB\n",
    "from skillNer.skill_extractor_class import SkillExtractor\n",
    "\n",
    "from gensim.utils import simple_preprocess\n",
    "\n",
    "import nltk\n",
    "from nltk.corpus import stopwords\n",
    "\n",
    "nltk.download('stopwords')\n",
    "stop_words = set(stopwords.words('german') + stopwords.words('english'))\n",
    "\n",
    "nlp = spacy.load(\"en_core_web_lg\") \n"
   ]
  },
  {
   "cell_type": "code",
   "execution_count": null,
   "metadata": {},
   "outputs": [],
   "source": [
    "df = pd.read_json(\"./data/DS_crawl.json\", lines = True)\n",
    "df"
   ]
  },
  {
   "cell_type": "code",
   "execution_count": null,
   "metadata": {},
   "outputs": [],
   "source": [
    "def get_skills(text:str, skill_extractor, index:int) -> list:\n",
    "    if index%100==0:\n",
    "        print(f\"Process Text at Index {index}\")\n",
    "    try:\n",
    "        annotations = skill_extractor.annotate(text)\n",
    "        return list(set([j.get(\"doc_node_value\") for j in annotations[\"results\"].get(\"ngram_scored\")]))\n",
    "    except:\n",
    "        return [\"\"]\n",
    "    pass\n",
    "\n",
    "skill_extractor = SkillExtractor(nlp, SKILL_DB, PhraseMatcher)\n",
    "final_txt_list = [\" \".join([word for word in simple_preprocess(str(doc)) if word not in stop_words]) for doc in df[\"text\"]]\n",
    "\n",
    "with ThreadPoolExecutor(max_workers=min(50, len(final_txt_list))) as pool:\n",
    "    results = pool.map(get_skills, final_txt_list, [skill_extractor for _ in range(len(final_txt_list))], [i for i in range(len(final_txt_list))])\n",
    "\n",
    "\n",
    "df[\"skills\"] = [i for i in results]"
   ]
  },
  {
   "cell_type": "code",
   "execution_count": null,
   "metadata": {},
   "outputs": [],
   "source": [
    "cities = list(itertools.chain(*[i.split(\",\") for i in df[\"stadt\"]]))\n",
    "cities = [i.strip() for i in cities]\n",
    "cities = [city.replace('Frankfurt (Main)', \"Frankfurt am Main\").replace('Frankfurt/Main', \"Frankfurt am Main\").replace('Frankfurt a. M.', \"Frankfurt am Main\") for city in cities if len(city) != 0] \n",
    "\n",
    "#First check top cities\n",
    "print(pd.Series(cities).value_counts()[:10])\n",
    "\n",
    "top_cities = ['München', 'Berlin', 'Hamburg', 'Stuttgart', 'Köln',\n",
    "       'Frankfurt am Main', 'Düsseldorf', 'Essen', 'Hannover',\n",
    "       'bundesweit']\n",
    "\n",
    "top_cities_data = [city for city in cities if city in [i for i in top_cities]]\n",
    "\n",
    "sns.set(rc = {'figure.figsize':(25,10)}, style='whitegrid')\n",
    "palette=['tab:blue']\n",
    "\n",
    "ax = sns.countplot(y=\"class\", data=pd.DataFrame({\"class\": top_cities_data}), \n",
    "            order = pd.Series(top_cities).value_counts().index, palette=palette)\n",
    "ax.set(xlabel = f\"Count (n={len(df)})\", ylabel='Städte')\n",
    "plt.show()\n"
   ]
  },
  {
   "cell_type": "code",
   "execution_count": null,
   "metadata": {},
   "outputs": [],
   "source": [
    "#Top10 Skills\n",
    "skills = list(itertools.chain(*df[\"skills\"]))\n",
    "\n",
    "#Add Excel and R, because there are missing in he used skill DB\n",
    "skills = skills + list(itertools.chain(*([list(set(re.findall(\"\\\\bR\\\\b\", i))) for i in df[\"text\"] if list(set(re.findall(\"\\\\bR\\\\b\", i)))])))\n",
    "skills = skills + list(itertools.chain(*([list(set(re.findall(\"\\\\bExcel\\\\b\", i))) for i in df[\"text\"] if list(set(re.findall(\"\\\\bExcel\\\\b\", i)))])))\n",
    "\n",
    "#Check for relevant Skills first\n",
    "print((pd.Series(skills).value_counts()))\n",
    "\n",
    "tech_stack = [\"stata\",\"excel\",\"Python\", \"R\", \"sql\", \"java\", \"big data\", \"devops\", \"docker\", \"git\", \"kubernetes\", \"machine learning\", \"linux\", \"javascript\", \"algorithms\", \"terraform\", \"spss\", \"nosql\", \"deep learning\"]\n",
    "skill_set = [\"agile\",\"innovative\", \"english\", \"german\", \"communication skills\", \"creative\", \"analytical\", \"scrum\", \"programming\", \"teamwork\", \"enthusiasm\", \"reliability\"] \n",
    "benefits = [\"childcare\", \"yoga\", \"food\", \"personal development\"]\n"
   ]
  },
  {
   "cell_type": "code",
   "execution_count": null,
   "metadata": {},
   "outputs": [],
   "source": [
    "sns.set(rc = {'figure.figsize':(25,10)}, style='whitegrid')\n",
    "palette=['tab:blue']\n",
    "\n",
    "tech_stack_data = [skill for skill in skills if skill.lower() in [i.lower() for i in tech_stack]]\n",
    "ax = sns.countplot(y=\"class\", data=pd.DataFrame({\"class\": tech_stack_data}), \n",
    "            order = pd.Series(tech_stack_data).value_counts().index, palette=palette)\n",
    "ax.set(xlabel = f\"Count (n={len(df)})\", ylabel='Tech-Stack')\n",
    "plt.show()\n",
    "\n",
    "skill_set_data = [skill for skill in skills if skill.lower() in [i.lower() for i in skill_set]]\n",
    "ax = sns.countplot(y=\"class\", data=pd.DataFrame({\"class\": skill_set_data}), \n",
    "            order = pd.Series(skill_set_data).value_counts().index, palette=palette)\n",
    "ax.set(xlabel=f\"Count (n={len(df)})\", ylabel='Skill-Stack')\n",
    "plt.show()\n",
    "\n",
    "benefits_data = [skill for skill in skills if skill.lower() in [i.lower() for i in benefits]]\n",
    "ax = sns.countplot(y=\"class\", data=pd.DataFrame({\"class\": benefits_data}), \n",
    "            order = pd.Series(benefits_data).value_counts().index, palette=palette)\n",
    "ax.set(xlabel=f\"Count (n={len(df)})\", ylabel='Benefits')\n",
    "plt.show()"
   ]
  }
 ],
 "metadata": {
  "kernelspec": {
   "display_name": "Python 3.10.4 64-bit",
   "language": "python",
   "name": "python3"
  },
  "language_info": {
   "codemirror_mode": {
    "name": "ipython",
    "version": 3
   },
   "file_extension": ".py",
   "mimetype": "text/x-python",
   "name": "python",
   "nbconvert_exporter": "python",
   "pygments_lexer": "ipython3",
   "version": "3.10.4"
  },
  "orig_nbformat": 4,
  "vscode": {
   "interpreter": {
    "hash": "949777d72b0d2535278d3dc13498b2535136f6dfe0678499012e853ee9abcab1"
   }
  }
 },
 "nbformat": 4,
 "nbformat_minor": 2
}
